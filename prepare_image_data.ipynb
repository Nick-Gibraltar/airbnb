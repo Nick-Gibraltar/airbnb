{
 "cells": [
  {
   "cell_type": "code",
   "execution_count": null,
   "metadata": {},
   "outputs": [],
   "source": []
  }
 ],
 "metadata": {
  "kernelspec": {
   "display_name": "sk_learn_tutorial",
   "language": "python",
   "name": "python3"
  },
  "language_info": {
   "name": "python",
   "version": "3.10.6 (main, Oct 24 2022, 16:07:47) [GCC 11.2.0]"
  },
  "orig_nbformat": 4,
  "vscode": {
   "interpreter": {
    "hash": "f396e32319fb6173efcacc497c9af9c14b2c90615938f6a9b0e5f821dce8e9e9"
   }
  }
 },
 "nbformat": 4,
 "nbformat_minor": 2
}
