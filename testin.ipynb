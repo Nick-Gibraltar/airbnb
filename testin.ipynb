{
 "cells": [
  {
   "cell_type": "code",
   "execution_count": 1,
   "metadata": {},
   "outputs": [],
   "source": [
    "import torch.nn as nn"
   ]
  },
  {
   "cell_type": "code",
   "execution_count": 12,
   "metadata": {},
   "outputs": [],
   "source": [
    "model = nn.Sequential(\n",
    "    nn.Linear(4,4),\n",
    "    nn.ReLU(),\n",
    "    nn.Linear(4,4),\n",
    "    nn.ReLU(),\n",
    "    nn.Linear(4,4)\n",
    ")"
   ]
  },
  {
   "cell_type": "code",
   "execution_count": 20,
   "metadata": {},
   "outputs": [
    {
     "name": "stdout",
     "output_type": "stream",
     "text": [
      "[{'type': 'Linear', 'config': {'in_features': 4, 'out_features': 4}}, {'type': 'ReLU'}, {'type': 'Linear', 'config': {'in_features': 4, 'out_features': 4}}, {'type': 'ReLU'}, {'type': 'Linear', 'config': {'in_features': 4, 'out_features': 4}}]\n"
     ]
    }
   ],
   "source": [
    "config = []\n",
    "for layer in model:\n",
    "    if isinstance(layer, nn.Linear):\n",
    "        layer_info = {\n",
    "            'type': str(layer.__class__.__name__),\n",
    "            'config': {'in_features': layer.in_features, 'out_features': layer.out_features}\n",
    "        }\n",
    "    else:\n",
    "        layer_info = {\n",
    "            'type': str(layer.__class__.__name__),\n",
    "        }\n",
    "    config.append(layer_info)\n"
   ]
  },
  {
   "cell_type": "code",
   "execution_count": 24,
   "metadata": {},
   "outputs": [
    {
     "name": "stdout",
     "output_type": "stream",
     "text": [
      "499e6c54-71a3-4917-864d-56259ac2a782\n"
     ]
    }
   ],
   "source": [
    "import uuid\n",
    "print(str(uuid.uuid4()))"
   ]
  }
 ],
 "metadata": {
  "kernelspec": {
   "display_name": "pytorch",
   "language": "python",
   "name": "python3"
  },
  "language_info": {
   "codemirror_mode": {
    "name": "ipython",
    "version": 3
   },
   "file_extension": ".py",
   "mimetype": "text/x-python",
   "name": "python",
   "nbconvert_exporter": "python",
   "pygments_lexer": "ipython3",
   "version": "3.9.12"
  },
  "orig_nbformat": 4,
  "vscode": {
   "interpreter": {
    "hash": "c90ee3e7c02d823ea1e499b882b9e6d65e6598bfba0852d5a728e90f9b19e08b"
   }
  }
 },
 "nbformat": 4,
 "nbformat_minor": 2
}
