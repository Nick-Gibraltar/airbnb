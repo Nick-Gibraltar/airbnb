{
 "cells": [
  {
   "cell_type": "code",
   "execution_count": 1,
   "metadata": {},
   "outputs": [],
   "source": [
    "import json\n",
    "import os\n",
    "import datetime\n",
    "import torch.nn as nn"
   ]
  },
  {
   "cell_type": "code",
   "execution_count": 2,
   "metadata": {},
   "outputs": [],
   "source": [
    "import yaml"
   ]
  },
  {
   "cell_type": "code",
   "execution_count": 24,
   "metadata": {},
   "outputs": [],
   "source": [
    "with open(\"nn_config.yaml\", \"r\") as file:\n",
    "    data = yaml.safe_load(file)"
   ]
  },
  {
   "cell_type": "code",
   "execution_count": 25,
   "metadata": {},
   "outputs": [],
   "source": [
    "model_specifications = {}\n",
    "for network in data['networks']:\n",
    "    model_specifications[network['name']] = {\n",
    "        'optimiser': network['optimiser'],\n",
    "        'learning_rate': network['learning_rate'],\n",
    "        'num_hidden_layers': network['num_hidden_layers'],\n",
    "        'hidden_layer_neurons': network['hidden_layer_neurons']}"
   ]
  },
  {
   "cell_type": "code",
   "execution_count": 26,
   "metadata": {},
   "outputs": [
    {
     "name": "stdout",
     "output_type": "stream",
     "text": [
      "{'optimiser': 'SGD', 'learning_rate': 0.001, 'num_hidden_layers': 2, 'hidden_layer_neurons': [64, 64]}\n",
      "{'optimiser': 'SGD', 'learning_rate': 0.01, 'num_hidden_layers': 2, 'hidden_layer_neurons': [64, 64]}\n",
      "{'optimiser': 'SGD', 'learning_rate': 0.0001, 'num_hidden_layers': 2, 'hidden_layer_neurons': [64, 64]}\n",
      "{'optimiser': 'SGD', 'learning_rate': 0.001, 'num_hidden_layers': 2, 'hidden_layer_neurons': [64, 64]}\n",
      "{'optimiser': 'SGD', 'learning_rate': 0.001, 'num_hidden_layers': 2, 'hidden_layer_neurons': [64, 64]}\n",
      "{'optimiser': 'SGD', 'learning_rate': 0.001, 'num_hidden_layers': 2, 'hidden_layer_neurons': [64, 64]}\n",
      "{'optimiser': 'SGD', 'learning_rate': 0.001, 'num_hidden_layers': 2, 'hidden_layer_neurons': [64, 64]}\n",
      "{'optimiser': 'SGD', 'learning_rate': 0.001, 'num_hidden_layers': 2, 'hidden_layer_neurons': [64, 64]}\n",
      "{'optimiser': 'SGD', 'learning_rate': 0.001, 'num_hidden_layers': 2, 'hidden_layer_neurons': [64, 64]}\n",
      "{'optimiser': 'SGD', 'learning_rate': 0.001, 'num_hidden_layers': 2, 'hidden_layer_neurons': [64, 64]}\n",
      "{'optimiser': 'SGD', 'learning_rate': 0.001, 'num_hidden_layers': 2, 'hidden_layer_neurons': [64, 64]}\n",
      "{'optimiser': 'SGD', 'learning_rate': 0.001, 'num_hidden_layers': 2, 'hidden_layer_neurons': [64, 64]}\n",
      "{'optimiser': 'SGD', 'learning_rate': 0.001, 'num_hidden_layers': 2, 'hidden_layer_neurons': [64, 64]}\n",
      "{'optimiser': 'SGD', 'learning_rate': 0.001, 'num_hidden_layers': 2, 'hidden_layer_neurons': [64, 64]}\n",
      "{'optimiser': 'SGD', 'learning_rate': 0.001, 'num_hidden_layers': 2, 'hidden_layer_neurons': [64, 64]}\n",
      "{'optimiser': 'SGD', 'learning_rate': 0.001, 'num_hidden_layers': 2, 'hidden_layer_neurons': [64, 64]}\n"
     ]
    }
   ],
   "source": [
    "for model_name, model_specs in model_specifications.items():\n",
    "    print(model_specs)\n"
   ]
  },
  {
   "cell_type": "code",
   "execution_count": 30,
   "metadata": {},
   "outputs": [
    {
     "name": "stdout",
     "output_type": "stream",
     "text": [
      "(('SGD', 0.001), {'linear0': {'type': <class 'torch.nn.modules.linear.Linear'>, 'config': {'in_features': 11, 'out_features': 64}}, 'relu0': {'type': <class 'torch.nn.modules.activation.ReLU'>, 'config': {}}, 'linear1': {'type': <class 'torch.nn.modules.linear.Linear'>, 'config': {'in_features': 64, 'out_features': 64}}, 'relu1': {'type': <class 'torch.nn.modules.activation.ReLU'>, 'config': {}}, 'linear2': {'type': <class 'torch.nn.modules.linear.Linear'>, 'config': {'in_features': 64, 'out_features': 1}}})\n",
      "(('SGD', 0.01), {'linear0': {'type': <class 'torch.nn.modules.linear.Linear'>, 'config': {'in_features': 11, 'out_features': 64}}, 'relu0': {'type': <class 'torch.nn.modules.activation.ReLU'>, 'config': {}}, 'linear1': {'type': <class 'torch.nn.modules.linear.Linear'>, 'config': {'in_features': 64, 'out_features': 64}}, 'relu1': {'type': <class 'torch.nn.modules.activation.ReLU'>, 'config': {}}, 'linear2': {'type': <class 'torch.nn.modules.linear.Linear'>, 'config': {'in_features': 64, 'out_features': 1}}})\n",
      "(('SGD', 0.0001), {'linear0': {'type': <class 'torch.nn.modules.linear.Linear'>, 'config': {'in_features': 11, 'out_features': 64}}, 'relu0': {'type': <class 'torch.nn.modules.activation.ReLU'>, 'config': {}}, 'linear1': {'type': <class 'torch.nn.modules.linear.Linear'>, 'config': {'in_features': 64, 'out_features': 64}}, 'relu1': {'type': <class 'torch.nn.modules.activation.ReLU'>, 'config': {}}, 'linear2': {'type': <class 'torch.nn.modules.linear.Linear'>, 'config': {'in_features': 64, 'out_features': 1}}})\n",
      "(('SGD', 0.001), {'linear0': {'type': <class 'torch.nn.modules.linear.Linear'>, 'config': {'in_features': 11, 'out_features': 64}}, 'relu0': {'type': <class 'torch.nn.modules.activation.ReLU'>, 'config': {}}, 'linear1': {'type': <class 'torch.nn.modules.linear.Linear'>, 'config': {'in_features': 64, 'out_features': 64}}, 'relu1': {'type': <class 'torch.nn.modules.activation.ReLU'>, 'config': {}}, 'linear2': {'type': <class 'torch.nn.modules.linear.Linear'>, 'config': {'in_features': 64, 'out_features': 1}}})\n",
      "(('SGD', 0.001), {'linear0': {'type': <class 'torch.nn.modules.linear.Linear'>, 'config': {'in_features': 11, 'out_features': 64}}, 'relu0': {'type': <class 'torch.nn.modules.activation.ReLU'>, 'config': {}}, 'linear1': {'type': <class 'torch.nn.modules.linear.Linear'>, 'config': {'in_features': 64, 'out_features': 64}}, 'relu1': {'type': <class 'torch.nn.modules.activation.ReLU'>, 'config': {}}, 'linear2': {'type': <class 'torch.nn.modules.linear.Linear'>, 'config': {'in_features': 64, 'out_features': 1}}})\n",
      "(('SGD', 0.001), {'linear0': {'type': <class 'torch.nn.modules.linear.Linear'>, 'config': {'in_features': 11, 'out_features': 64}}, 'relu0': {'type': <class 'torch.nn.modules.activation.ReLU'>, 'config': {}}, 'linear1': {'type': <class 'torch.nn.modules.linear.Linear'>, 'config': {'in_features': 64, 'out_features': 64}}, 'relu1': {'type': <class 'torch.nn.modules.activation.ReLU'>, 'config': {}}, 'linear2': {'type': <class 'torch.nn.modules.linear.Linear'>, 'config': {'in_features': 64, 'out_features': 1}}})\n",
      "(('SGD', 0.001), {'linear0': {'type': <class 'torch.nn.modules.linear.Linear'>, 'config': {'in_features': 11, 'out_features': 64}}, 'relu0': {'type': <class 'torch.nn.modules.activation.ReLU'>, 'config': {}}, 'linear1': {'type': <class 'torch.nn.modules.linear.Linear'>, 'config': {'in_features': 64, 'out_features': 64}}, 'relu1': {'type': <class 'torch.nn.modules.activation.ReLU'>, 'config': {}}, 'linear2': {'type': <class 'torch.nn.modules.linear.Linear'>, 'config': {'in_features': 64, 'out_features': 1}}})\n",
      "(('SGD', 0.001), {'linear0': {'type': <class 'torch.nn.modules.linear.Linear'>, 'config': {'in_features': 11, 'out_features': 64}}, 'relu0': {'type': <class 'torch.nn.modules.activation.ReLU'>, 'config': {}}, 'linear1': {'type': <class 'torch.nn.modules.linear.Linear'>, 'config': {'in_features': 64, 'out_features': 64}}, 'relu1': {'type': <class 'torch.nn.modules.activation.ReLU'>, 'config': {}}, 'linear2': {'type': <class 'torch.nn.modules.linear.Linear'>, 'config': {'in_features': 64, 'out_features': 1}}})\n",
      "(('SGD', 0.001), {'linear0': {'type': <class 'torch.nn.modules.linear.Linear'>, 'config': {'in_features': 11, 'out_features': 64}}, 'relu0': {'type': <class 'torch.nn.modules.activation.ReLU'>, 'config': {}}, 'linear1': {'type': <class 'torch.nn.modules.linear.Linear'>, 'config': {'in_features': 64, 'out_features': 64}}, 'relu1': {'type': <class 'torch.nn.modules.activation.ReLU'>, 'config': {}}, 'linear2': {'type': <class 'torch.nn.modules.linear.Linear'>, 'config': {'in_features': 64, 'out_features': 1}}})\n",
      "(('SGD', 0.001), {'linear0': {'type': <class 'torch.nn.modules.linear.Linear'>, 'config': {'in_features': 11, 'out_features': 64}}, 'relu0': {'type': <class 'torch.nn.modules.activation.ReLU'>, 'config': {}}, 'linear1': {'type': <class 'torch.nn.modules.linear.Linear'>, 'config': {'in_features': 64, 'out_features': 64}}, 'relu1': {'type': <class 'torch.nn.modules.activation.ReLU'>, 'config': {}}, 'linear2': {'type': <class 'torch.nn.modules.linear.Linear'>, 'config': {'in_features': 64, 'out_features': 1}}})\n",
      "(('SGD', 0.001), {'linear0': {'type': <class 'torch.nn.modules.linear.Linear'>, 'config': {'in_features': 11, 'out_features': 64}}, 'relu0': {'type': <class 'torch.nn.modules.activation.ReLU'>, 'config': {}}, 'linear1': {'type': <class 'torch.nn.modules.linear.Linear'>, 'config': {'in_features': 64, 'out_features': 64}}, 'relu1': {'type': <class 'torch.nn.modules.activation.ReLU'>, 'config': {}}, 'linear2': {'type': <class 'torch.nn.modules.linear.Linear'>, 'config': {'in_features': 64, 'out_features': 1}}})\n",
      "(('SGD', 0.001), {'linear0': {'type': <class 'torch.nn.modules.linear.Linear'>, 'config': {'in_features': 11, 'out_features': 64}}, 'relu0': {'type': <class 'torch.nn.modules.activation.ReLU'>, 'config': {}}, 'linear1': {'type': <class 'torch.nn.modules.linear.Linear'>, 'config': {'in_features': 64, 'out_features': 64}}, 'relu1': {'type': <class 'torch.nn.modules.activation.ReLU'>, 'config': {}}, 'linear2': {'type': <class 'torch.nn.modules.linear.Linear'>, 'config': {'in_features': 64, 'out_features': 1}}})\n",
      "(('SGD', 0.001), {'linear0': {'type': <class 'torch.nn.modules.linear.Linear'>, 'config': {'in_features': 11, 'out_features': 64}}, 'relu0': {'type': <class 'torch.nn.modules.activation.ReLU'>, 'config': {}}, 'linear1': {'type': <class 'torch.nn.modules.linear.Linear'>, 'config': {'in_features': 64, 'out_features': 64}}, 'relu1': {'type': <class 'torch.nn.modules.activation.ReLU'>, 'config': {}}, 'linear2': {'type': <class 'torch.nn.modules.linear.Linear'>, 'config': {'in_features': 64, 'out_features': 1}}})\n",
      "(('SGD', 0.001), {'linear0': {'type': <class 'torch.nn.modules.linear.Linear'>, 'config': {'in_features': 11, 'out_features': 64}}, 'relu0': {'type': <class 'torch.nn.modules.activation.ReLU'>, 'config': {}}, 'linear1': {'type': <class 'torch.nn.modules.linear.Linear'>, 'config': {'in_features': 64, 'out_features': 64}}, 'relu1': {'type': <class 'torch.nn.modules.activation.ReLU'>, 'config': {}}, 'linear2': {'type': <class 'torch.nn.modules.linear.Linear'>, 'config': {'in_features': 64, 'out_features': 1}}})\n",
      "(('SGD', 0.001), {'linear0': {'type': <class 'torch.nn.modules.linear.Linear'>, 'config': {'in_features': 11, 'out_features': 64}}, 'relu0': {'type': <class 'torch.nn.modules.activation.ReLU'>, 'config': {}}, 'linear1': {'type': <class 'torch.nn.modules.linear.Linear'>, 'config': {'in_features': 64, 'out_features': 64}}, 'relu1': {'type': <class 'torch.nn.modules.activation.ReLU'>, 'config': {}}, 'linear2': {'type': <class 'torch.nn.modules.linear.Linear'>, 'config': {'in_features': 64, 'out_features': 1}}})\n",
      "(('SGD', 0.001), {'linear0': {'type': <class 'torch.nn.modules.linear.Linear'>, 'config': {'in_features': 11, 'out_features': 64}}, 'relu0': {'type': <class 'torch.nn.modules.activation.ReLU'>, 'config': {}}, 'linear1': {'type': <class 'torch.nn.modules.linear.Linear'>, 'config': {'in_features': 64, 'out_features': 64}}, 'relu1': {'type': <class 'torch.nn.modules.activation.ReLU'>, 'config': {}}, 'linear2': {'type': <class 'torch.nn.modules.linear.Linear'>, 'config': {'in_features': 64, 'out_features': 1}}})\n"
     ]
    }
   ],
   "source": [
    "with open(\"nn_config.yaml\", \"r\") as file:\n",
    "    data = yaml.safe_load(file)\n",
    "\n",
    "    model_specifications = {}\n",
    "    for network in data['networks']:\n",
    "        model_specifications[network['name']] = {\n",
    "            'optimiser': network['optimiser'],\n",
    "            'learning_rate': network['learning_rate'],\n",
    "            'num_hidden_layers': network['num_hidden_layers'],\n",
    "            'hidden_layer_neurons': network['hidden_layer_neurons']}\n",
    "    \n",
    "    configs = []\n",
    "    for _, model_specs in model_specifications.items():\n",
    "        architecture = {}\n",
    "        num_hidden_layers = model_specs['num_hidden_layers']\n",
    "        for i in range(num_hidden_layers):\n",
    "            if i==0:\n",
    "                architecture[\"linear\"+str(i)] = {'type': nn.Linear, 'config': {'in_features': 11, 'out_features': model_specs['hidden_layer_neurons'][i]}}\n",
    "            else:\n",
    "                architecture[\"linear\"+str(i)] = {'type': nn.Linear, 'config': {'in_features': model_specs['hidden_layer_neurons'][i-1], 'out_features': model_specs['hidden_layer_neurons'][i]}}\n",
    "            architecture[\"relu\"+str(i)] = {'type': nn.ReLU, 'config': {}}\n",
    "        architecture[\"linear\"+str(num_hidden_layers)] = {'type': nn.Linear, 'config': {'in_features': model_specs['hidden_layer_neurons'][num_hidden_layers-1], 'out_features': 1}}\n",
    "        configs.append(((model_specs[\"optimiser\"], model_specs[\"learning_rate\"]), architecture))\n",
    "\n",
    "    for i in configs:\n",
    "        print(i)"
   ]
  },
  {
   "cell_type": "code",
   "execution_count": 6,
   "metadata": {},
   "outputs": [],
   "source": [
    "test = {}\n",
    "num_hidden_layers = spec['num_hidden_layers']\n",
    "for i in range(num_hidden_layers):\n",
    "    if i==0:\n",
    "        test[\"linear\"+str(i)] = {'type': nn.Linear, 'config': {'in_features': 11, 'out_features': spec['hidden_layer_neurons'][i]}}\n",
    "    else:\n",
    "        test[\"linear\"+str(i)] = {'type': nn.Linear, 'config': {'in_features': spec['hidden_layer_neurons'][i-1], 'out_features': spec['hidden_layer_neurons'][i]}}\n",
    "    test[\"relu\"+str(i)] = {'type': nn.ReLU, 'config': {}}\n",
    "test[\"linear\"+str(num_hidden_layers)] = {'type': nn.Linear, 'config': {'in_features': spec['hidden_layer_neurons'][num_hidden_layers-1], 'out_features': 1}}"
   ]
  },
  {
   "cell_type": "code",
   "execution_count": 7,
   "metadata": {},
   "outputs": [
    {
     "data": {
      "text/plain": [
       "{'linear0': {'type': torch.nn.modules.linear.Linear,\n",
       "  'config': {'in_features': 11, 'out_features': 64}},\n",
       " 'relu0': {'type': torch.nn.modules.activation.ReLU, 'config': {}},\n",
       " 'linear1': {'type': torch.nn.modules.linear.Linear,\n",
       "  'config': {'in_features': 64, 'out_features': 64}},\n",
       " 'relu1': {'type': torch.nn.modules.activation.ReLU, 'config': {}},\n",
       " 'linear2': {'type': torch.nn.modules.linear.Linear,\n",
       "  'config': {'in_features': 64, 'out_features': 64}},\n",
       " 'relu2': {'type': torch.nn.modules.activation.ReLU, 'config': {}},\n",
       " 'linear3': {'type': torch.nn.modules.linear.Linear,\n",
       "  'config': {'in_features': 64, 'out_features': 1}}}"
      ]
     },
     "execution_count": 7,
     "metadata": {},
     "output_type": "execute_result"
    }
   ],
   "source": [
    "test"
   ]
  },
  {
   "cell_type": "code",
   "execution_count": 37,
   "metadata": {},
   "outputs": [],
   "source": [
    "architectures = [{\n",
    "    'linear1': {'type': nn.Linear, 'config': {'in_features': 8, 'out_features': 32}},\n",
    "    'relu': {'type': nn.ReLU, 'config': {}},\n",
    "    'linear2': {'type': nn.Linear, 'config': {'in_features': 16, 'out_features': 1}}}, \n",
    "\n",
    "    {'linear1': {'type': nn.Linear, 'config': {'in_features': 10, 'out_features': 64}},\n",
    "    'relu': {'type': nn.ReLU, 'config': {}},\n",
    "    'linear2': {'type': nn.Linear, 'config': {'in_features': 36, 'out_features': 1}}}    \n",
    "\n",
    "]"
   ]
  },
  {
   "cell_type": "code",
   "execution_count": 38,
   "metadata": {},
   "outputs": [
    {
     "name": "stdout",
     "output_type": "stream",
     "text": [
      "<class 'dict'>\n"
     ]
    },
    {
     "ename": "TypeError",
     "evalue": "Object of type type is not JSON serializable",
     "output_type": "error",
     "traceback": [
      "\u001b[0;31m---------------------------------------------------------------------------\u001b[0m",
      "\u001b[0;31mTypeError\u001b[0m                                 Traceback (most recent call last)",
      "\u001b[1;32m/home/nick/Documents/AICore/Specialisation/Airbnb_Project/testin.ipynb Cell 3\u001b[0m in \u001b[0;36m<cell line: 1>\u001b[0;34m()\u001b[0m\n\u001b[1;32m      <a href='vscode-notebook-cell:/home/nick/Documents/AICore/Specialisation/Airbnb_Project/testin.ipynb#W1sZmlsZQ%3D%3D?line=8'>9</a>\u001b[0m \u001b[39m# Save layer specifications to a JSON file\u001b[39;00m\n\u001b[1;32m     <a href='vscode-notebook-cell:/home/nick/Documents/AICore/Specialisation/Airbnb_Project/testin.ipynb#W1sZmlsZQ%3D%3D?line=9'>10</a>\u001b[0m \u001b[39mwith\u001b[39;00m \u001b[39mopen\u001b[39m(output_path, \u001b[39m'\u001b[39m\u001b[39mw\u001b[39m\u001b[39m'\u001b[39m) \u001b[39mas\u001b[39;00m f:\n\u001b[0;32m---> <a href='vscode-notebook-cell:/home/nick/Documents/AICore/Specialisation/Airbnb_Project/testin.ipynb#W1sZmlsZQ%3D%3D?line=10'>11</a>\u001b[0m     json\u001b[39m.\u001b[39;49mdump(i, f, indent\u001b[39m=\u001b[39;49m\u001b[39m4\u001b[39;49m)\n",
      "File \u001b[0;32m~/miniconda3/envs/pytorch/lib/python3.9/json/__init__.py:179\u001b[0m, in \u001b[0;36mdump\u001b[0;34m(obj, fp, skipkeys, ensure_ascii, check_circular, allow_nan, cls, indent, separators, default, sort_keys, **kw)\u001b[0m\n\u001b[1;32m    173\u001b[0m     iterable \u001b[39m=\u001b[39m \u001b[39mcls\u001b[39m(skipkeys\u001b[39m=\u001b[39mskipkeys, ensure_ascii\u001b[39m=\u001b[39mensure_ascii,\n\u001b[1;32m    174\u001b[0m         check_circular\u001b[39m=\u001b[39mcheck_circular, allow_nan\u001b[39m=\u001b[39mallow_nan, indent\u001b[39m=\u001b[39mindent,\n\u001b[1;32m    175\u001b[0m         separators\u001b[39m=\u001b[39mseparators,\n\u001b[1;32m    176\u001b[0m         default\u001b[39m=\u001b[39mdefault, sort_keys\u001b[39m=\u001b[39msort_keys, \u001b[39m*\u001b[39m\u001b[39m*\u001b[39mkw)\u001b[39m.\u001b[39miterencode(obj)\n\u001b[1;32m    177\u001b[0m \u001b[39m# could accelerate with writelines in some versions of Python, at\u001b[39;00m\n\u001b[1;32m    178\u001b[0m \u001b[39m# a debuggability cost\u001b[39;00m\n\u001b[0;32m--> 179\u001b[0m \u001b[39mfor\u001b[39;00m chunk \u001b[39min\u001b[39;00m iterable:\n\u001b[1;32m    180\u001b[0m     fp\u001b[39m.\u001b[39mwrite(chunk)\n",
      "File \u001b[0;32m~/miniconda3/envs/pytorch/lib/python3.9/json/encoder.py:431\u001b[0m, in \u001b[0;36m_make_iterencode.<locals>._iterencode\u001b[0;34m(o, _current_indent_level)\u001b[0m\n\u001b[1;32m    429\u001b[0m     \u001b[39myield from\u001b[39;00m _iterencode_list(o, _current_indent_level)\n\u001b[1;32m    430\u001b[0m \u001b[39melif\u001b[39;00m \u001b[39misinstance\u001b[39m(o, \u001b[39mdict\u001b[39m):\n\u001b[0;32m--> 431\u001b[0m     \u001b[39myield from\u001b[39;00m _iterencode_dict(o, _current_indent_level)\n\u001b[1;32m    432\u001b[0m \u001b[39melse\u001b[39;00m:\n\u001b[1;32m    433\u001b[0m     \u001b[39mif\u001b[39;00m markers \u001b[39mis\u001b[39;00m \u001b[39mnot\u001b[39;00m \u001b[39mNone\u001b[39;00m:\n",
      "File \u001b[0;32m~/miniconda3/envs/pytorch/lib/python3.9/json/encoder.py:405\u001b[0m, in \u001b[0;36m_make_iterencode.<locals>._iterencode_dict\u001b[0;34m(dct, _current_indent_level)\u001b[0m\n\u001b[1;32m    403\u001b[0m         \u001b[39melse\u001b[39;00m:\n\u001b[1;32m    404\u001b[0m             chunks \u001b[39m=\u001b[39m _iterencode(value, _current_indent_level)\n\u001b[0;32m--> 405\u001b[0m         \u001b[39myield from\u001b[39;00m chunks\n\u001b[1;32m    406\u001b[0m \u001b[39mif\u001b[39;00m newline_indent \u001b[39mis\u001b[39;00m \u001b[39mnot\u001b[39;00m \u001b[39mNone\u001b[39;00m:\n\u001b[1;32m    407\u001b[0m     _current_indent_level \u001b[39m-\u001b[39m\u001b[39m=\u001b[39m \u001b[39m1\u001b[39m\n",
      "File \u001b[0;32m~/miniconda3/envs/pytorch/lib/python3.9/json/encoder.py:405\u001b[0m, in \u001b[0;36m_make_iterencode.<locals>._iterencode_dict\u001b[0;34m(dct, _current_indent_level)\u001b[0m\n\u001b[1;32m    403\u001b[0m         \u001b[39melse\u001b[39;00m:\n\u001b[1;32m    404\u001b[0m             chunks \u001b[39m=\u001b[39m _iterencode(value, _current_indent_level)\n\u001b[0;32m--> 405\u001b[0m         \u001b[39myield from\u001b[39;00m chunks\n\u001b[1;32m    406\u001b[0m \u001b[39mif\u001b[39;00m newline_indent \u001b[39mis\u001b[39;00m \u001b[39mnot\u001b[39;00m \u001b[39mNone\u001b[39;00m:\n\u001b[1;32m    407\u001b[0m     _current_indent_level \u001b[39m-\u001b[39m\u001b[39m=\u001b[39m \u001b[39m1\u001b[39m\n",
      "File \u001b[0;32m~/miniconda3/envs/pytorch/lib/python3.9/json/encoder.py:438\u001b[0m, in \u001b[0;36m_make_iterencode.<locals>._iterencode\u001b[0;34m(o, _current_indent_level)\u001b[0m\n\u001b[1;32m    436\u001b[0m         \u001b[39mraise\u001b[39;00m \u001b[39mValueError\u001b[39;00m(\u001b[39m\"\u001b[39m\u001b[39mCircular reference detected\u001b[39m\u001b[39m\"\u001b[39m)\n\u001b[1;32m    437\u001b[0m     markers[markerid] \u001b[39m=\u001b[39m o\n\u001b[0;32m--> 438\u001b[0m o \u001b[39m=\u001b[39m _default(o)\n\u001b[1;32m    439\u001b[0m \u001b[39myield from\u001b[39;00m _iterencode(o, _current_indent_level)\n\u001b[1;32m    440\u001b[0m \u001b[39mif\u001b[39;00m markers \u001b[39mis\u001b[39;00m \u001b[39mnot\u001b[39;00m \u001b[39mNone\u001b[39;00m:\n",
      "File \u001b[0;32m~/miniconda3/envs/pytorch/lib/python3.9/json/encoder.py:179\u001b[0m, in \u001b[0;36mJSONEncoder.default\u001b[0;34m(self, o)\u001b[0m\n\u001b[1;32m    160\u001b[0m \u001b[39mdef\u001b[39;00m \u001b[39mdefault\u001b[39m(\u001b[39mself\u001b[39m, o):\n\u001b[1;32m    161\u001b[0m     \u001b[39m\"\"\"Implement this method in a subclass such that it returns\u001b[39;00m\n\u001b[1;32m    162\u001b[0m \u001b[39m    a serializable object for ``o``, or calls the base implementation\u001b[39;00m\n\u001b[1;32m    163\u001b[0m \u001b[39m    (to raise a ``TypeError``).\u001b[39;00m\n\u001b[0;32m   (...)\u001b[0m\n\u001b[1;32m    177\u001b[0m \n\u001b[1;32m    178\u001b[0m \u001b[39m    \"\"\"\u001b[39;00m\n\u001b[0;32m--> 179\u001b[0m     \u001b[39mraise\u001b[39;00m \u001b[39mTypeError\u001b[39;00m(\u001b[39mf\u001b[39m\u001b[39m'\u001b[39m\u001b[39mObject of type \u001b[39m\u001b[39m{\u001b[39;00mo\u001b[39m.\u001b[39m\u001b[39m__class__\u001b[39m\u001b[39m.\u001b[39m\u001b[39m__name__\u001b[39m\u001b[39m}\u001b[39;00m\u001b[39m \u001b[39m\u001b[39m'\u001b[39m\n\u001b[1;32m    180\u001b[0m                     \u001b[39mf\u001b[39m\u001b[39m'\u001b[39m\u001b[39mis not JSON serializable\u001b[39m\u001b[39m'\u001b[39m)\n",
      "\u001b[0;31mTypeError\u001b[0m: Object of type type is not JSON serializable"
     ]
    }
   ],
   "source": [
    "for i in architectures:\n",
    "    print(type(i))\n",
    "\n",
    "    output_dir = os.path.expanduser('~/Documents/AICore/Specialisation/Airbnb_Project/runs')\n",
    "    current_datetime = datetime.datetime.now().strftime('%Y-%m-%d_%H-%M-%S')\n",
    "    output_filename = f'model_specifications_{current_datetime}.json'\n",
    "    output_path = os.path.join(output_dir, output_filename)\n",
    "\n",
    "    # Save layer specifications to a JSON file\n",
    "    with open(output_path, 'w') as f:\n",
    "        json.dump(i, f, indent=4)"
   ]
  }
 ],
 "metadata": {
  "kernelspec": {
   "display_name": "pytorch",
   "language": "python",
   "name": "python3"
  },
  "language_info": {
   "codemirror_mode": {
    "name": "ipython",
    "version": 3
   },
   "file_extension": ".py",
   "mimetype": "text/x-python",
   "name": "python",
   "nbconvert_exporter": "python",
   "pygments_lexer": "ipython3",
   "version": "3.9.12"
  },
  "orig_nbformat": 4,
  "vscode": {
   "interpreter": {
    "hash": "c90ee3e7c02d823ea1e499b882b9e6d65e6598bfba0852d5a728e90f9b19e08b"
   }
  }
 },
 "nbformat": 4,
 "nbformat_minor": 2
}
