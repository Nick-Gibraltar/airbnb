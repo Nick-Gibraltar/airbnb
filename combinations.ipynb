{
 "cells": [
  {
   "cell_type": "code",
   "execution_count": 1,
   "metadata": {},
   "outputs": [],
   "source": [
    "import itertools"
   ]
  },
  {
   "cell_type": "code",
   "execution_count": null,
   "metadata": {},
   "outputs": [],
   "source": [
    "'''\n",
    "learning_rate 0.01, 0.1, 1\n",
    "max_depth None, 2, 3, 10\n",
    "n_estimators 10, 100, 500\n",
    "\n",
    "'''"
   ]
  },
  {
   "cell_type": "code",
   "execution_count": 2,
   "metadata": {},
   "outputs": [],
   "source": [
    "a = [0.01, 0.1, 1]\n",
    "b = [None, 2, 3, 10]\n",
    "c = [10, 100, 500]"
   ]
  },
  {
   "cell_type": "code",
   "execution_count": 11,
   "metadata": {},
   "outputs": [],
   "source": [
    "param_values = list(itertools.product(a,b,c))"
   ]
  },
  {
   "cell_type": "code",
   "execution_count": 12,
   "metadata": {},
   "outputs": [],
   "source": [
    "param_keys =[\"learning_rate\", \"max_depth\", \"n_estimators\"]"
   ]
  },
  {
   "cell_type": "code",
   "execution_count": 14,
   "metadata": {},
   "outputs": [
    {
     "data": {
      "text/plain": [
       "{'learning_rate': 0.01, 'max_depth': None, 'n_estimators': 10}"
      ]
     },
     "execution_count": 14,
     "metadata": {},
     "output_type": "execute_result"
    }
   ],
   "source": [
    "d = dict(zip(param_keys, param_values[0]))\n",
    "d\n"
   ]
  },
  {
   "cell_type": "code",
   "execution_count": 15,
   "metadata": {},
   "outputs": [],
   "source": [
    "model_specifications = [\n",
    "                            [\"GradientBoostingRegressor\", \n",
    "                            [\"learning_rate\", \"max_depth\", \"n_estimators\"], \n",
    "                            [[0.01, 0.1, 1], [2, 3, 10], [10, 100, 500]]],\n",
    "\n",
    "                            [\"SVR\",\n",
    "                            [\"kernel\", \"C\"],\n",
    "                            [[\"linear\", \"rbf\", \"sigmoid\"], [0.1, 1, 10]]],\n",
    "\n",
    "                            [\"SGDRegressor\",\n",
    "                            [\"penalty\", \"alpha\", \"max_iter\", \"eta0\"],\n",
    "                            [[\"l1\", \"l2\", \"elasticnet\"], [0.01, 0.001, 0.0001, 0.00001], [100, 500, 1000, 5000], [0.001, 0.01, 0.1]]]\n",
    "                            \n",
    "                            ]    "
   ]
  },
  {
   "cell_type": "code",
   "execution_count": 29,
   "metadata": {},
   "outputs": [
    {
     "data": {
      "text/plain": [
       "[[0.01, 0.1, 1], [2, 3, 10], [10, 100, 500]]"
      ]
     },
     "execution_count": 29,
     "metadata": {},
     "output_type": "execute_result"
    }
   ],
   "source": [
    "model_specifications[0][2]"
   ]
  },
  {
   "cell_type": "code",
   "execution_count": 49,
   "metadata": {},
   "outputs": [],
   "source": [
    "\n",
    "param_values = list(itertools.product(*model_specifications[1][2]))\n",
    "#list(itertools.product(*[[0.01, 0.1, 1], [2, 3, 10], [10, 100, 500]]))"
   ]
  },
  {
   "cell_type": "code",
   "execution_count": 50,
   "metadata": {},
   "outputs": [],
   "source": [
    "param_keys = model_specifications[1][1]"
   ]
  },
  {
   "cell_type": "code",
   "execution_count": 51,
   "metadata": {},
   "outputs": [
    {
     "data": {
      "text/plain": [
       "{'kernel': 'rbf', 'C': 10}"
      ]
     },
     "execution_count": 51,
     "metadata": {},
     "output_type": "execute_result"
    }
   ],
   "source": [
    "d = dict(zip(param_keys, param_values[5]))\n",
    "d"
   ]
  },
  {
   "cell_type": "code",
   "execution_count": 56,
   "metadata": {},
   "outputs": [
    {
     "name": "stdout",
     "output_type": "stream",
     "text": [
      "('GradientBoostingRegressor', {'learning_rate': 0.01, 'max_depth': 2, 'n_estimators': 10})\n",
      "('GradientBoostingRegressor', {'learning_rate': 0.01, 'max_depth': 2, 'n_estimators': 100})\n",
      "('GradientBoostingRegressor', {'learning_rate': 0.01, 'max_depth': 2, 'n_estimators': 500})\n",
      "('GradientBoostingRegressor', {'learning_rate': 0.01, 'max_depth': 3, 'n_estimators': 10})\n",
      "('GradientBoostingRegressor', {'learning_rate': 0.01, 'max_depth': 3, 'n_estimators': 100})\n",
      "('GradientBoostingRegressor', {'learning_rate': 0.01, 'max_depth': 3, 'n_estimators': 500})\n",
      "('GradientBoostingRegressor', {'learning_rate': 0.01, 'max_depth': 10, 'n_estimators': 10})\n",
      "('GradientBoostingRegressor', {'learning_rate': 0.01, 'max_depth': 10, 'n_estimators': 100})\n",
      "('GradientBoostingRegressor', {'learning_rate': 0.01, 'max_depth': 10, 'n_estimators': 500})\n",
      "('GradientBoostingRegressor', {'learning_rate': 0.1, 'max_depth': 2, 'n_estimators': 10})\n",
      "('GradientBoostingRegressor', {'learning_rate': 0.1, 'max_depth': 2, 'n_estimators': 100})\n",
      "('GradientBoostingRegressor', {'learning_rate': 0.1, 'max_depth': 2, 'n_estimators': 500})\n",
      "('GradientBoostingRegressor', {'learning_rate': 0.1, 'max_depth': 3, 'n_estimators': 10})\n",
      "('GradientBoostingRegressor', {'learning_rate': 0.1, 'max_depth': 3, 'n_estimators': 100})\n",
      "('GradientBoostingRegressor', {'learning_rate': 0.1, 'max_depth': 3, 'n_estimators': 500})\n",
      "('GradientBoostingRegressor', {'learning_rate': 0.1, 'max_depth': 10, 'n_estimators': 10})\n",
      "('GradientBoostingRegressor', {'learning_rate': 0.1, 'max_depth': 10, 'n_estimators': 100})\n",
      "('GradientBoostingRegressor', {'learning_rate': 0.1, 'max_depth': 10, 'n_estimators': 500})\n",
      "('GradientBoostingRegressor', {'learning_rate': 1, 'max_depth': 2, 'n_estimators': 10})\n",
      "('GradientBoostingRegressor', {'learning_rate': 1, 'max_depth': 2, 'n_estimators': 100})\n",
      "('GradientBoostingRegressor', {'learning_rate': 1, 'max_depth': 2, 'n_estimators': 500})\n",
      "('GradientBoostingRegressor', {'learning_rate': 1, 'max_depth': 3, 'n_estimators': 10})\n",
      "('GradientBoostingRegressor', {'learning_rate': 1, 'max_depth': 3, 'n_estimators': 100})\n",
      "('GradientBoostingRegressor', {'learning_rate': 1, 'max_depth': 3, 'n_estimators': 500})\n",
      "('GradientBoostingRegressor', {'learning_rate': 1, 'max_depth': 10, 'n_estimators': 10})\n",
      "('GradientBoostingRegressor', {'learning_rate': 1, 'max_depth': 10, 'n_estimators': 100})\n",
      "('GradientBoostingRegressor', {'learning_rate': 1, 'max_depth': 10, 'n_estimators': 500})\n",
      "('SVR', {'kernel': 'linear', 'C': 0.1})\n",
      "('SVR', {'kernel': 'linear', 'C': 1})\n",
      "('SVR', {'kernel': 'linear', 'C': 10})\n",
      "('SVR', {'kernel': 'rbf', 'C': 0.1})\n",
      "('SVR', {'kernel': 'rbf', 'C': 1})\n",
      "('SVR', {'kernel': 'rbf', 'C': 10})\n",
      "('SVR', {'kernel': 'sigmoid', 'C': 0.1})\n",
      "('SVR', {'kernel': 'sigmoid', 'C': 1})\n",
      "('SVR', {'kernel': 'sigmoid', 'C': 10})\n",
      "('SGDRegressor', {'penalty': 'l1', 'alpha': 0.01, 'max_iter': 100, 'eta0': 0.001})\n",
      "('SGDRegressor', {'penalty': 'l1', 'alpha': 0.01, 'max_iter': 100, 'eta0': 0.01})\n",
      "('SGDRegressor', {'penalty': 'l1', 'alpha': 0.01, 'max_iter': 100, 'eta0': 0.1})\n",
      "('SGDRegressor', {'penalty': 'l1', 'alpha': 0.01, 'max_iter': 500, 'eta0': 0.001})\n",
      "('SGDRegressor', {'penalty': 'l1', 'alpha': 0.01, 'max_iter': 500, 'eta0': 0.01})\n",
      "('SGDRegressor', {'penalty': 'l1', 'alpha': 0.01, 'max_iter': 500, 'eta0': 0.1})\n",
      "('SGDRegressor', {'penalty': 'l1', 'alpha': 0.01, 'max_iter': 1000, 'eta0': 0.001})\n",
      "('SGDRegressor', {'penalty': 'l1', 'alpha': 0.01, 'max_iter': 1000, 'eta0': 0.01})\n",
      "('SGDRegressor', {'penalty': 'l1', 'alpha': 0.01, 'max_iter': 1000, 'eta0': 0.1})\n",
      "('SGDRegressor', {'penalty': 'l1', 'alpha': 0.01, 'max_iter': 5000, 'eta0': 0.001})\n",
      "('SGDRegressor', {'penalty': 'l1', 'alpha': 0.01, 'max_iter': 5000, 'eta0': 0.01})\n",
      "('SGDRegressor', {'penalty': 'l1', 'alpha': 0.01, 'max_iter': 5000, 'eta0': 0.1})\n",
      "('SGDRegressor', {'penalty': 'l1', 'alpha': 0.001, 'max_iter': 100, 'eta0': 0.001})\n",
      "('SGDRegressor', {'penalty': 'l1', 'alpha': 0.001, 'max_iter': 100, 'eta0': 0.01})\n",
      "('SGDRegressor', {'penalty': 'l1', 'alpha': 0.001, 'max_iter': 100, 'eta0': 0.1})\n",
      "('SGDRegressor', {'penalty': 'l1', 'alpha': 0.001, 'max_iter': 500, 'eta0': 0.001})\n",
      "('SGDRegressor', {'penalty': 'l1', 'alpha': 0.001, 'max_iter': 500, 'eta0': 0.01})\n",
      "('SGDRegressor', {'penalty': 'l1', 'alpha': 0.001, 'max_iter': 500, 'eta0': 0.1})\n",
      "('SGDRegressor', {'penalty': 'l1', 'alpha': 0.001, 'max_iter': 1000, 'eta0': 0.001})\n",
      "('SGDRegressor', {'penalty': 'l1', 'alpha': 0.001, 'max_iter': 1000, 'eta0': 0.01})\n",
      "('SGDRegressor', {'penalty': 'l1', 'alpha': 0.001, 'max_iter': 1000, 'eta0': 0.1})\n",
      "('SGDRegressor', {'penalty': 'l1', 'alpha': 0.001, 'max_iter': 5000, 'eta0': 0.001})\n",
      "('SGDRegressor', {'penalty': 'l1', 'alpha': 0.001, 'max_iter': 5000, 'eta0': 0.01})\n",
      "('SGDRegressor', {'penalty': 'l1', 'alpha': 0.001, 'max_iter': 5000, 'eta0': 0.1})\n",
      "('SGDRegressor', {'penalty': 'l1', 'alpha': 0.0001, 'max_iter': 100, 'eta0': 0.001})\n",
      "('SGDRegressor', {'penalty': 'l1', 'alpha': 0.0001, 'max_iter': 100, 'eta0': 0.01})\n",
      "('SGDRegressor', {'penalty': 'l1', 'alpha': 0.0001, 'max_iter': 100, 'eta0': 0.1})\n",
      "('SGDRegressor', {'penalty': 'l1', 'alpha': 0.0001, 'max_iter': 500, 'eta0': 0.001})\n",
      "('SGDRegressor', {'penalty': 'l1', 'alpha': 0.0001, 'max_iter': 500, 'eta0': 0.01})\n",
      "('SGDRegressor', {'penalty': 'l1', 'alpha': 0.0001, 'max_iter': 500, 'eta0': 0.1})\n",
      "('SGDRegressor', {'penalty': 'l1', 'alpha': 0.0001, 'max_iter': 1000, 'eta0': 0.001})\n",
      "('SGDRegressor', {'penalty': 'l1', 'alpha': 0.0001, 'max_iter': 1000, 'eta0': 0.01})\n",
      "('SGDRegressor', {'penalty': 'l1', 'alpha': 0.0001, 'max_iter': 1000, 'eta0': 0.1})\n",
      "('SGDRegressor', {'penalty': 'l1', 'alpha': 0.0001, 'max_iter': 5000, 'eta0': 0.001})\n",
      "('SGDRegressor', {'penalty': 'l1', 'alpha': 0.0001, 'max_iter': 5000, 'eta0': 0.01})\n",
      "('SGDRegressor', {'penalty': 'l1', 'alpha': 0.0001, 'max_iter': 5000, 'eta0': 0.1})\n",
      "('SGDRegressor', {'penalty': 'l1', 'alpha': 1e-05, 'max_iter': 100, 'eta0': 0.001})\n",
      "('SGDRegressor', {'penalty': 'l1', 'alpha': 1e-05, 'max_iter': 100, 'eta0': 0.01})\n",
      "('SGDRegressor', {'penalty': 'l1', 'alpha': 1e-05, 'max_iter': 100, 'eta0': 0.1})\n",
      "('SGDRegressor', {'penalty': 'l1', 'alpha': 1e-05, 'max_iter': 500, 'eta0': 0.001})\n",
      "('SGDRegressor', {'penalty': 'l1', 'alpha': 1e-05, 'max_iter': 500, 'eta0': 0.01})\n",
      "('SGDRegressor', {'penalty': 'l1', 'alpha': 1e-05, 'max_iter': 500, 'eta0': 0.1})\n",
      "('SGDRegressor', {'penalty': 'l1', 'alpha': 1e-05, 'max_iter': 1000, 'eta0': 0.001})\n",
      "('SGDRegressor', {'penalty': 'l1', 'alpha': 1e-05, 'max_iter': 1000, 'eta0': 0.01})\n",
      "('SGDRegressor', {'penalty': 'l1', 'alpha': 1e-05, 'max_iter': 1000, 'eta0': 0.1})\n",
      "('SGDRegressor', {'penalty': 'l1', 'alpha': 1e-05, 'max_iter': 5000, 'eta0': 0.001})\n",
      "('SGDRegressor', {'penalty': 'l1', 'alpha': 1e-05, 'max_iter': 5000, 'eta0': 0.01})\n",
      "('SGDRegressor', {'penalty': 'l1', 'alpha': 1e-05, 'max_iter': 5000, 'eta0': 0.1})\n",
      "('SGDRegressor', {'penalty': 'l2', 'alpha': 0.01, 'max_iter': 100, 'eta0': 0.001})\n",
      "('SGDRegressor', {'penalty': 'l2', 'alpha': 0.01, 'max_iter': 100, 'eta0': 0.01})\n",
      "('SGDRegressor', {'penalty': 'l2', 'alpha': 0.01, 'max_iter': 100, 'eta0': 0.1})\n",
      "('SGDRegressor', {'penalty': 'l2', 'alpha': 0.01, 'max_iter': 500, 'eta0': 0.001})\n",
      "('SGDRegressor', {'penalty': 'l2', 'alpha': 0.01, 'max_iter': 500, 'eta0': 0.01})\n",
      "('SGDRegressor', {'penalty': 'l2', 'alpha': 0.01, 'max_iter': 500, 'eta0': 0.1})\n",
      "('SGDRegressor', {'penalty': 'l2', 'alpha': 0.01, 'max_iter': 1000, 'eta0': 0.001})\n",
      "('SGDRegressor', {'penalty': 'l2', 'alpha': 0.01, 'max_iter': 1000, 'eta0': 0.01})\n",
      "('SGDRegressor', {'penalty': 'l2', 'alpha': 0.01, 'max_iter': 1000, 'eta0': 0.1})\n",
      "('SGDRegressor', {'penalty': 'l2', 'alpha': 0.01, 'max_iter': 5000, 'eta0': 0.001})\n",
      "('SGDRegressor', {'penalty': 'l2', 'alpha': 0.01, 'max_iter': 5000, 'eta0': 0.01})\n",
      "('SGDRegressor', {'penalty': 'l2', 'alpha': 0.01, 'max_iter': 5000, 'eta0': 0.1})\n",
      "('SGDRegressor', {'penalty': 'l2', 'alpha': 0.001, 'max_iter': 100, 'eta0': 0.001})\n",
      "('SGDRegressor', {'penalty': 'l2', 'alpha': 0.001, 'max_iter': 100, 'eta0': 0.01})\n",
      "('SGDRegressor', {'penalty': 'l2', 'alpha': 0.001, 'max_iter': 100, 'eta0': 0.1})\n",
      "('SGDRegressor', {'penalty': 'l2', 'alpha': 0.001, 'max_iter': 500, 'eta0': 0.001})\n",
      "('SGDRegressor', {'penalty': 'l2', 'alpha': 0.001, 'max_iter': 500, 'eta0': 0.01})\n",
      "('SGDRegressor', {'penalty': 'l2', 'alpha': 0.001, 'max_iter': 500, 'eta0': 0.1})\n",
      "('SGDRegressor', {'penalty': 'l2', 'alpha': 0.001, 'max_iter': 1000, 'eta0': 0.001})\n",
      "('SGDRegressor', {'penalty': 'l2', 'alpha': 0.001, 'max_iter': 1000, 'eta0': 0.01})\n",
      "('SGDRegressor', {'penalty': 'l2', 'alpha': 0.001, 'max_iter': 1000, 'eta0': 0.1})\n",
      "('SGDRegressor', {'penalty': 'l2', 'alpha': 0.001, 'max_iter': 5000, 'eta0': 0.001})\n",
      "('SGDRegressor', {'penalty': 'l2', 'alpha': 0.001, 'max_iter': 5000, 'eta0': 0.01})\n",
      "('SGDRegressor', {'penalty': 'l2', 'alpha': 0.001, 'max_iter': 5000, 'eta0': 0.1})\n",
      "('SGDRegressor', {'penalty': 'l2', 'alpha': 0.0001, 'max_iter': 100, 'eta0': 0.001})\n",
      "('SGDRegressor', {'penalty': 'l2', 'alpha': 0.0001, 'max_iter': 100, 'eta0': 0.01})\n",
      "('SGDRegressor', {'penalty': 'l2', 'alpha': 0.0001, 'max_iter': 100, 'eta0': 0.1})\n",
      "('SGDRegressor', {'penalty': 'l2', 'alpha': 0.0001, 'max_iter': 500, 'eta0': 0.001})\n",
      "('SGDRegressor', {'penalty': 'l2', 'alpha': 0.0001, 'max_iter': 500, 'eta0': 0.01})\n",
      "('SGDRegressor', {'penalty': 'l2', 'alpha': 0.0001, 'max_iter': 500, 'eta0': 0.1})\n",
      "('SGDRegressor', {'penalty': 'l2', 'alpha': 0.0001, 'max_iter': 1000, 'eta0': 0.001})\n",
      "('SGDRegressor', {'penalty': 'l2', 'alpha': 0.0001, 'max_iter': 1000, 'eta0': 0.01})\n",
      "('SGDRegressor', {'penalty': 'l2', 'alpha': 0.0001, 'max_iter': 1000, 'eta0': 0.1})\n",
      "('SGDRegressor', {'penalty': 'l2', 'alpha': 0.0001, 'max_iter': 5000, 'eta0': 0.001})\n",
      "('SGDRegressor', {'penalty': 'l2', 'alpha': 0.0001, 'max_iter': 5000, 'eta0': 0.01})\n",
      "('SGDRegressor', {'penalty': 'l2', 'alpha': 0.0001, 'max_iter': 5000, 'eta0': 0.1})\n",
      "('SGDRegressor', {'penalty': 'l2', 'alpha': 1e-05, 'max_iter': 100, 'eta0': 0.001})\n",
      "('SGDRegressor', {'penalty': 'l2', 'alpha': 1e-05, 'max_iter': 100, 'eta0': 0.01})\n",
      "('SGDRegressor', {'penalty': 'l2', 'alpha': 1e-05, 'max_iter': 100, 'eta0': 0.1})\n",
      "('SGDRegressor', {'penalty': 'l2', 'alpha': 1e-05, 'max_iter': 500, 'eta0': 0.001})\n",
      "('SGDRegressor', {'penalty': 'l2', 'alpha': 1e-05, 'max_iter': 500, 'eta0': 0.01})\n",
      "('SGDRegressor', {'penalty': 'l2', 'alpha': 1e-05, 'max_iter': 500, 'eta0': 0.1})\n",
      "('SGDRegressor', {'penalty': 'l2', 'alpha': 1e-05, 'max_iter': 1000, 'eta0': 0.001})\n",
      "('SGDRegressor', {'penalty': 'l2', 'alpha': 1e-05, 'max_iter': 1000, 'eta0': 0.01})\n",
      "('SGDRegressor', {'penalty': 'l2', 'alpha': 1e-05, 'max_iter': 1000, 'eta0': 0.1})\n",
      "('SGDRegressor', {'penalty': 'l2', 'alpha': 1e-05, 'max_iter': 5000, 'eta0': 0.001})\n",
      "('SGDRegressor', {'penalty': 'l2', 'alpha': 1e-05, 'max_iter': 5000, 'eta0': 0.01})\n",
      "('SGDRegressor', {'penalty': 'l2', 'alpha': 1e-05, 'max_iter': 5000, 'eta0': 0.1})\n",
      "('SGDRegressor', {'penalty': 'elasticnet', 'alpha': 0.01, 'max_iter': 100, 'eta0': 0.001})\n",
      "('SGDRegressor', {'penalty': 'elasticnet', 'alpha': 0.01, 'max_iter': 100, 'eta0': 0.01})\n",
      "('SGDRegressor', {'penalty': 'elasticnet', 'alpha': 0.01, 'max_iter': 100, 'eta0': 0.1})\n",
      "('SGDRegressor', {'penalty': 'elasticnet', 'alpha': 0.01, 'max_iter': 500, 'eta0': 0.001})\n",
      "('SGDRegressor', {'penalty': 'elasticnet', 'alpha': 0.01, 'max_iter': 500, 'eta0': 0.01})\n",
      "('SGDRegressor', {'penalty': 'elasticnet', 'alpha': 0.01, 'max_iter': 500, 'eta0': 0.1})\n",
      "('SGDRegressor', {'penalty': 'elasticnet', 'alpha': 0.01, 'max_iter': 1000, 'eta0': 0.001})\n",
      "('SGDRegressor', {'penalty': 'elasticnet', 'alpha': 0.01, 'max_iter': 1000, 'eta0': 0.01})\n",
      "('SGDRegressor', {'penalty': 'elasticnet', 'alpha': 0.01, 'max_iter': 1000, 'eta0': 0.1})\n",
      "('SGDRegressor', {'penalty': 'elasticnet', 'alpha': 0.01, 'max_iter': 5000, 'eta0': 0.001})\n",
      "('SGDRegressor', {'penalty': 'elasticnet', 'alpha': 0.01, 'max_iter': 5000, 'eta0': 0.01})\n",
      "('SGDRegressor', {'penalty': 'elasticnet', 'alpha': 0.01, 'max_iter': 5000, 'eta0': 0.1})\n",
      "('SGDRegressor', {'penalty': 'elasticnet', 'alpha': 0.001, 'max_iter': 100, 'eta0': 0.001})\n",
      "('SGDRegressor', {'penalty': 'elasticnet', 'alpha': 0.001, 'max_iter': 100, 'eta0': 0.01})\n",
      "('SGDRegressor', {'penalty': 'elasticnet', 'alpha': 0.001, 'max_iter': 100, 'eta0': 0.1})\n",
      "('SGDRegressor', {'penalty': 'elasticnet', 'alpha': 0.001, 'max_iter': 500, 'eta0': 0.001})\n",
      "('SGDRegressor', {'penalty': 'elasticnet', 'alpha': 0.001, 'max_iter': 500, 'eta0': 0.01})\n",
      "('SGDRegressor', {'penalty': 'elasticnet', 'alpha': 0.001, 'max_iter': 500, 'eta0': 0.1})\n",
      "('SGDRegressor', {'penalty': 'elasticnet', 'alpha': 0.001, 'max_iter': 1000, 'eta0': 0.001})\n",
      "('SGDRegressor', {'penalty': 'elasticnet', 'alpha': 0.001, 'max_iter': 1000, 'eta0': 0.01})\n",
      "('SGDRegressor', {'penalty': 'elasticnet', 'alpha': 0.001, 'max_iter': 1000, 'eta0': 0.1})\n",
      "('SGDRegressor', {'penalty': 'elasticnet', 'alpha': 0.001, 'max_iter': 5000, 'eta0': 0.001})\n",
      "('SGDRegressor', {'penalty': 'elasticnet', 'alpha': 0.001, 'max_iter': 5000, 'eta0': 0.01})\n",
      "('SGDRegressor', {'penalty': 'elasticnet', 'alpha': 0.001, 'max_iter': 5000, 'eta0': 0.1})\n",
      "('SGDRegressor', {'penalty': 'elasticnet', 'alpha': 0.0001, 'max_iter': 100, 'eta0': 0.001})\n",
      "('SGDRegressor', {'penalty': 'elasticnet', 'alpha': 0.0001, 'max_iter': 100, 'eta0': 0.01})\n",
      "('SGDRegressor', {'penalty': 'elasticnet', 'alpha': 0.0001, 'max_iter': 100, 'eta0': 0.1})\n",
      "('SGDRegressor', {'penalty': 'elasticnet', 'alpha': 0.0001, 'max_iter': 500, 'eta0': 0.001})\n",
      "('SGDRegressor', {'penalty': 'elasticnet', 'alpha': 0.0001, 'max_iter': 500, 'eta0': 0.01})\n",
      "('SGDRegressor', {'penalty': 'elasticnet', 'alpha': 0.0001, 'max_iter': 500, 'eta0': 0.1})\n",
      "('SGDRegressor', {'penalty': 'elasticnet', 'alpha': 0.0001, 'max_iter': 1000, 'eta0': 0.001})\n",
      "('SGDRegressor', {'penalty': 'elasticnet', 'alpha': 0.0001, 'max_iter': 1000, 'eta0': 0.01})\n",
      "('SGDRegressor', {'penalty': 'elasticnet', 'alpha': 0.0001, 'max_iter': 1000, 'eta0': 0.1})\n",
      "('SGDRegressor', {'penalty': 'elasticnet', 'alpha': 0.0001, 'max_iter': 5000, 'eta0': 0.001})\n",
      "('SGDRegressor', {'penalty': 'elasticnet', 'alpha': 0.0001, 'max_iter': 5000, 'eta0': 0.01})\n",
      "('SGDRegressor', {'penalty': 'elasticnet', 'alpha': 0.0001, 'max_iter': 5000, 'eta0': 0.1})\n",
      "('SGDRegressor', {'penalty': 'elasticnet', 'alpha': 1e-05, 'max_iter': 100, 'eta0': 0.001})\n",
      "('SGDRegressor', {'penalty': 'elasticnet', 'alpha': 1e-05, 'max_iter': 100, 'eta0': 0.01})\n",
      "('SGDRegressor', {'penalty': 'elasticnet', 'alpha': 1e-05, 'max_iter': 100, 'eta0': 0.1})\n",
      "('SGDRegressor', {'penalty': 'elasticnet', 'alpha': 1e-05, 'max_iter': 500, 'eta0': 0.001})\n",
      "('SGDRegressor', {'penalty': 'elasticnet', 'alpha': 1e-05, 'max_iter': 500, 'eta0': 0.01})\n",
      "('SGDRegressor', {'penalty': 'elasticnet', 'alpha': 1e-05, 'max_iter': 500, 'eta0': 0.1})\n",
      "('SGDRegressor', {'penalty': 'elasticnet', 'alpha': 1e-05, 'max_iter': 1000, 'eta0': 0.001})\n",
      "('SGDRegressor', {'penalty': 'elasticnet', 'alpha': 1e-05, 'max_iter': 1000, 'eta0': 0.01})\n",
      "('SGDRegressor', {'penalty': 'elasticnet', 'alpha': 1e-05, 'max_iter': 1000, 'eta0': 0.1})\n",
      "('SGDRegressor', {'penalty': 'elasticnet', 'alpha': 1e-05, 'max_iter': 5000, 'eta0': 0.001})\n",
      "('SGDRegressor', {'penalty': 'elasticnet', 'alpha': 1e-05, 'max_iter': 5000, 'eta0': 0.01})\n",
      "('SGDRegressor', {'penalty': 'elasticnet', 'alpha': 1e-05, 'max_iter': 5000, 'eta0': 0.1})\n"
     ]
    }
   ],
   "source": [
    "model_specifications_list = []\n",
    "for i in model_specifications:\n",
    "    parameter_values = list(itertools.product(*i[2]))\n",
    "    parameter_keys = i[1]\n",
    "    for j in parameter_values:\n",
    "        model_specifications_list.append((i[0], dict(zip(parameter_keys, j))))\n",
    "\n",
    "for i in model_specifications_list:\n",
    "    print(i)\n"
   ]
  }
 ],
 "metadata": {
  "kernelspec": {
   "display_name": "sk_learn_tutorial",
   "language": "python",
   "name": "python3"
  },
  "language_info": {
   "codemirror_mode": {
    "name": "ipython",
    "version": 3
   },
   "file_extension": ".py",
   "mimetype": "text/x-python",
   "name": "python",
   "nbconvert_exporter": "python",
   "pygments_lexer": "ipython3",
   "version": "3.10.6 (main, Oct 24 2022, 16:07:47) [GCC 11.2.0]"
  },
  "orig_nbformat": 4,
  "vscode": {
   "interpreter": {
    "hash": "f396e32319fb6173efcacc497c9af9c14b2c90615938f6a9b0e5f821dce8e9e9"
   }
  }
 },
 "nbformat": 4,
 "nbformat_minor": 2
}
